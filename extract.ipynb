{
 "cells": [
  {
   "cell_type": "code",
   "execution_count": 52,
   "metadata": {},
   "outputs": [],
   "source": [
    "import pandas as pd\n",
    "import matplotlib.pyplot as plt"
   ]
  },
  {
   "cell_type": "code",
   "execution_count": 53,
   "metadata": {},
   "outputs": [],
   "source": [
    "# Load the CSV files\n",
    "soc_2014 = 'DATASET/Social_status_of_suicide_victims_state_2014.csv'\n",
    "prof_2014 = 'DATASET/Profession_profile_of_suicide_victims_state_2014.csv'\n",
    "edu_2014 = 'DATASET/Educational_status_of_suicide_victimes_state_2014_3.csv'\n",
    "soc_2013 = 'DATASET/Social_status_of_suicide_victims_state_2013.csv'\n",
    "prof_2013 = 'DATASET/Profession_profile_of_suicide_victims_state_2013.csv'\n",
    "edu_2013 = 'DATASET/Educational_status_of_suicide_victimes_state_2013_2.csv'\n",
    "soc_2000 = 'DATASET/Social_status_of_suicide_victims_state.csv'\n",
    "prof_2000 = 'DATASET/Profession_profile_of_suicide_victims_state.csv'\n",
    "edu_2000 = 'DATASET/Educational_status_of_suicide_victimes_state.csv'"
   ]
  },
  {
   "cell_type": "code",
   "execution_count": 54,
   "metadata": {},
   "outputs": [],
   "source": [
    "# Load the datasets\n",
    "df_soc_2014 = pd.read_csv(soc_2014, encoding='ISO-8859-1')\n",
    "df_prof_2014 = pd.read_csv(prof_2014, encoding='ISO-8859-1')\n",
    "df_edu_2014 = pd.read_csv(edu_2014, encoding='ISO-8859-1')\n",
    "\n",
    "df_soc_2013 = pd.read_csv(soc_2013, encoding='ISO-8859-1')\n",
    "df_prof_2013 = pd.read_csv(prof_2013, encoding='ISO-8859-1')\n",
    "df_edu_2013 = pd.read_csv(edu_2013, encoding='ISO-8859-1')\n",
    "\n",
    "df_soc_2000 = pd.read_csv(soc_2000, encoding='ISO-8859-1')\n",
    "df_prof_2000 = pd.read_csv(prof_2000, encoding='ISO-8859-1')\n",
    "df_edu_2000 = pd.read_csv(edu_2000, encoding='ISO-8859-1')"
   ]
  },
  {
   "cell_type": "code",
   "execution_count": null,
   "metadata": {},
   "outputs": [
    {
     "ename": "KeyError",
     "evalue": "'State/UTs'",
     "output_type": "error",
     "traceback": [
      "\u001b[1;31m---------------------------------------------------------------------------\u001b[0m",
      "\u001b[1;31mKeyError\u001b[0m                                  Traceback (most recent call last)",
      "File \u001b[1;32m~\\AppData\\Roaming\\Python\\Python312\\site-packages\\pandas\\core\\indexes\\base.py:3805\u001b[0m, in \u001b[0;36mIndex.get_loc\u001b[1;34m(self, key)\u001b[0m\n\u001b[0;32m   3804\u001b[0m \u001b[38;5;28;01mtry\u001b[39;00m:\n\u001b[1;32m-> 3805\u001b[0m     \u001b[38;5;28;01mreturn\u001b[39;00m \u001b[38;5;28;43mself\u001b[39;49m\u001b[38;5;241;43m.\u001b[39;49m\u001b[43m_engine\u001b[49m\u001b[38;5;241;43m.\u001b[39;49m\u001b[43mget_loc\u001b[49m\u001b[43m(\u001b[49m\u001b[43mcasted_key\u001b[49m\u001b[43m)\u001b[49m\n\u001b[0;32m   3806\u001b[0m \u001b[38;5;28;01mexcept\u001b[39;00m \u001b[38;5;167;01mKeyError\u001b[39;00m \u001b[38;5;28;01mas\u001b[39;00m err:\n",
      "File \u001b[1;32mindex.pyx:167\u001b[0m, in \u001b[0;36mpandas._libs.index.IndexEngine.get_loc\u001b[1;34m()\u001b[0m\n",
      "File \u001b[1;32mindex.pyx:196\u001b[0m, in \u001b[0;36mpandas._libs.index.IndexEngine.get_loc\u001b[1;34m()\u001b[0m\n",
      "File \u001b[1;32mpandas\\\\_libs\\\\hashtable_class_helper.pxi:7081\u001b[0m, in \u001b[0;36mpandas._libs.hashtable.PyObjectHashTable.get_item\u001b[1;34m()\u001b[0m\n",
      "File \u001b[1;32mpandas\\\\_libs\\\\hashtable_class_helper.pxi:7089\u001b[0m, in \u001b[0;36mpandas._libs.hashtable.PyObjectHashTable.get_item\u001b[1;34m()\u001b[0m\n",
      "\u001b[1;31mKeyError\u001b[0m: 'State/UTs'",
      "\nThe above exception was the direct cause of the following exception:\n",
      "\u001b[1;31mKeyError\u001b[0m                                  Traceback (most recent call last)",
      "Cell \u001b[1;32mIn[55], line 3\u001b[0m\n\u001b[0;32m      1\u001b[0m \u001b[38;5;66;03m# Filter out rows where 'State/UTs' starts with 'Total' or 'TOTAL' and update each original dataframe\u001b[39;00m\n\u001b[1;32m----> 3\u001b[0m df_soc_2014 \u001b[38;5;241m=\u001b[39m df_soc_2014[\u001b[38;5;241m~\u001b[39m\u001b[43mdf_soc_2014\u001b[49m\u001b[43m[\u001b[49m\u001b[38;5;124;43m'\u001b[39;49m\u001b[38;5;124;43mState/UTs\u001b[39;49m\u001b[38;5;124;43m'\u001b[39;49m\u001b[43m]\u001b[49m\u001b[38;5;241m.\u001b[39mstr\u001b[38;5;241m.\u001b[39mstartswith((\u001b[38;5;124m'\u001b[39m\u001b[38;5;124mTotal\u001b[39m\u001b[38;5;124m'\u001b[39m, \u001b[38;5;124m'\u001b[39m\u001b[38;5;124mTOTAL\u001b[39m\u001b[38;5;124m'\u001b[39m))]\n\u001b[0;32m      4\u001b[0m df_prof_2014 \u001b[38;5;241m=\u001b[39m df_prof_2014[\u001b[38;5;241m~\u001b[39mdf_prof_2014[\u001b[38;5;124m'\u001b[39m\u001b[38;5;124mState/UTs\u001b[39m\u001b[38;5;124m'\u001b[39m]\u001b[38;5;241m.\u001b[39mstr\u001b[38;5;241m.\u001b[39mstartswith((\u001b[38;5;124m'\u001b[39m\u001b[38;5;124mTotal\u001b[39m\u001b[38;5;124m'\u001b[39m, \u001b[38;5;124m'\u001b[39m\u001b[38;5;124mTOTAL\u001b[39m\u001b[38;5;124m'\u001b[39m))]\n\u001b[0;32m      5\u001b[0m df_edu_2014 \u001b[38;5;241m=\u001b[39m df_edu_2014[\u001b[38;5;241m~\u001b[39mdf_edu_2014[\u001b[38;5;124m'\u001b[39m\u001b[38;5;124mState/UTs\u001b[39m\u001b[38;5;124m'\u001b[39m]\u001b[38;5;241m.\u001b[39mstr\u001b[38;5;241m.\u001b[39mstartswith((\u001b[38;5;124m'\u001b[39m\u001b[38;5;124mTotal\u001b[39m\u001b[38;5;124m'\u001b[39m, \u001b[38;5;124m'\u001b[39m\u001b[38;5;124mTOTAL\u001b[39m\u001b[38;5;124m'\u001b[39m))]\n",
      "File \u001b[1;32m~\\AppData\\Roaming\\Python\\Python312\\site-packages\\pandas\\core\\frame.py:4102\u001b[0m, in \u001b[0;36mDataFrame.__getitem__\u001b[1;34m(self, key)\u001b[0m\n\u001b[0;32m   4100\u001b[0m \u001b[38;5;28;01mif\u001b[39;00m \u001b[38;5;28mself\u001b[39m\u001b[38;5;241m.\u001b[39mcolumns\u001b[38;5;241m.\u001b[39mnlevels \u001b[38;5;241m>\u001b[39m \u001b[38;5;241m1\u001b[39m:\n\u001b[0;32m   4101\u001b[0m     \u001b[38;5;28;01mreturn\u001b[39;00m \u001b[38;5;28mself\u001b[39m\u001b[38;5;241m.\u001b[39m_getitem_multilevel(key)\n\u001b[1;32m-> 4102\u001b[0m indexer \u001b[38;5;241m=\u001b[39m \u001b[38;5;28;43mself\u001b[39;49m\u001b[38;5;241;43m.\u001b[39;49m\u001b[43mcolumns\u001b[49m\u001b[38;5;241;43m.\u001b[39;49m\u001b[43mget_loc\u001b[49m\u001b[43m(\u001b[49m\u001b[43mkey\u001b[49m\u001b[43m)\u001b[49m\n\u001b[0;32m   4103\u001b[0m \u001b[38;5;28;01mif\u001b[39;00m is_integer(indexer):\n\u001b[0;32m   4104\u001b[0m     indexer \u001b[38;5;241m=\u001b[39m [indexer]\n",
      "File \u001b[1;32m~\\AppData\\Roaming\\Python\\Python312\\site-packages\\pandas\\core\\indexes\\base.py:3812\u001b[0m, in \u001b[0;36mIndex.get_loc\u001b[1;34m(self, key)\u001b[0m\n\u001b[0;32m   3807\u001b[0m     \u001b[38;5;28;01mif\u001b[39;00m \u001b[38;5;28misinstance\u001b[39m(casted_key, \u001b[38;5;28mslice\u001b[39m) \u001b[38;5;129;01mor\u001b[39;00m (\n\u001b[0;32m   3808\u001b[0m         \u001b[38;5;28misinstance\u001b[39m(casted_key, abc\u001b[38;5;241m.\u001b[39mIterable)\n\u001b[0;32m   3809\u001b[0m         \u001b[38;5;129;01mand\u001b[39;00m \u001b[38;5;28many\u001b[39m(\u001b[38;5;28misinstance\u001b[39m(x, \u001b[38;5;28mslice\u001b[39m) \u001b[38;5;28;01mfor\u001b[39;00m x \u001b[38;5;129;01min\u001b[39;00m casted_key)\n\u001b[0;32m   3810\u001b[0m     ):\n\u001b[0;32m   3811\u001b[0m         \u001b[38;5;28;01mraise\u001b[39;00m InvalidIndexError(key)\n\u001b[1;32m-> 3812\u001b[0m     \u001b[38;5;28;01mraise\u001b[39;00m \u001b[38;5;167;01mKeyError\u001b[39;00m(key) \u001b[38;5;28;01mfrom\u001b[39;00m \u001b[38;5;21;01merr\u001b[39;00m\n\u001b[0;32m   3813\u001b[0m \u001b[38;5;28;01mexcept\u001b[39;00m \u001b[38;5;167;01mTypeError\u001b[39;00m:\n\u001b[0;32m   3814\u001b[0m     \u001b[38;5;66;03m# If we have a listlike key, _check_indexing_error will raise\u001b[39;00m\n\u001b[0;32m   3815\u001b[0m     \u001b[38;5;66;03m#  InvalidIndexError. Otherwise we fall through and re-raise\u001b[39;00m\n\u001b[0;32m   3816\u001b[0m     \u001b[38;5;66;03m#  the TypeError.\u001b[39;00m\n\u001b[0;32m   3817\u001b[0m     \u001b[38;5;28mself\u001b[39m\u001b[38;5;241m.\u001b[39m_check_indexing_error(key)\n",
      "\u001b[1;31mKeyError\u001b[0m: 'State/UTs'"
     ]
    }
   ],
   "source": [
    "# Filter out rows where 'State/UTs' starts with 'Total' or 'TOTAL' and update each original dataframe\n",
    "\n",
    "df_soc_2014 = df_soc_2014[~df_soc_2014['States/UTs'].str.startswith(('Total', 'TOTAL'))]\n",
    "df_prof_2014 = df_prof_2014[~df_prof_2014['States/UTs'].str.startswith(('Total', 'TOTAL'))]\n",
    "df_edu_2014 = df_edu_2014[~df_edu_2014['States/UTs'].str.startswith(('Total', 'TOTAL'))]\n",
    "\n",
    "df_soc_2013 = df_soc_2013[~df_soc_2013['States/UTs'].str.startswith(('Total', 'TOTAL'))]\n",
    "df_prof_2013 = df_prof_2013[~df_prof_2013['States/UTs'].str.startswith(('Total', 'TOTAL'))]\n",
    "df_edu_2013 = df_edu_2013[~df_edu_2013['States/UTs'].str.startswith(('Total', 'TOTAL'))]\n",
    "\n",
    "df_soc_2000 = df_soc_2000[~df_soc_2000['States/UTs'].str.startswith(('Total', 'TOTAL'))]\n",
    "df_prof_2000 = df_prof_2000[~df_prof_2000['States/UTs'].str.startswith(('Total', 'TOTAL'))]\n",
    "df_edu_2000 = df_edu_2000[~df_edu_2000['States/UTs'].str.startswith(('Total', 'TOTAL'))]\n",
    "\n",
    "# Now, each original dataframe has been updated with the filtered rows removed.\n",
    "\n"
   ]
  },
  {
   "cell_type": "code",
   "execution_count": null,
   "metadata": {},
   "outputs": [],
   "source": [
    "# Define the years range\n",
    "years = list(range(2001, 2013))\n",
    "\n",
    "# Dictionary to store the year-wise dataframes for each dataset\n",
    "yearly_datasets = {\n",
    "    'Social': {},\n",
    "    'Profession': {},\n",
    "    'Education': {}\n",
    "}\n",
    "\n",
    "# Split each dataset by year\n",
    "for year in years:\n",
    "    yearly_datasets['Social'][year] = df_soc_2000[df_soc_2000['Year'] == year]\n",
    "    yearly_datasets['Profession'][year] = df_prof_2000[df_prof_2000['Year'] == year]\n",
    "    yearly_datasets['Education'][year] = df_edu_2000[df_edu_2000['Year'] == year]\n",
    "\n",
    "yearly_datasets['Social'][2013] = df_soc_2013\n",
    "yearly_datasets['Profession'][2013] = df_prof_2013\n",
    "yearly_datasets['Education'][2013] = df_edu_2013\n",
    "\n",
    "yearly_datasets['Social'][2014] = df_soc_2014\n",
    "yearly_datasets['Profession'][2014] = df_prof_2014\n",
    "yearly_datasets['Education'][2014] = df_edu_2014"
   ]
  },
  {
   "cell_type": "code",
   "execution_count": null,
   "metadata": {},
   "outputs": [
    {
     "name": "stdout",
     "output_type": "stream",
     "text": [
      "            States/UTs  Year         CrimeHead   Male  Female  Transgender  \\\n",
      "0       Andhra Pradesh  2014        Un-Married    626     349            0   \n",
      "1       Andhra Pradesh  2014           Married   2979    1266            0   \n",
      "2       Andhra Pradesh  2014   Widowed/Widower     89      68            0   \n",
      "3       Andhra Pradesh  2014          Divorcee     28      30            0   \n",
      "4       Andhra Pradesh  2014         Separated     10       9            0   \n",
      "..                 ...   ...               ...    ...     ...          ...   \n",
      "307  Total (All India)  2014          Divorcee    551     417            0   \n",
      "308  Total (All India)  2014         Separated    599     316            1   \n",
      "309  Total (All India)  2014            Others   5159    2339            6   \n",
      "310  Total (All India)  2014  Status not known   3667    1261            3   \n",
      "311  Total (All India)  2014             Total  89129   42521           16   \n",
      "\n",
      "      Total  \n",
      "0       975  \n",
      "1      4245  \n",
      "2       157  \n",
      "3        58  \n",
      "4        19  \n",
      "..      ...  \n",
      "307     968  \n",
      "308     916  \n",
      "309    7504  \n",
      "310    4931  \n",
      "311  131666  \n",
      "\n",
      "[312 rows x 7 columns]\n"
     ]
    }
   ],
   "source": [
    "print(yearly_datasets['Social'][2014])"
   ]
  },
  {
   "cell_type": "code",
   "execution_count": null,
   "metadata": {},
   "outputs": [],
   "source": [
    "# Filter data for \"Total (All India)\" for the year 2014\n",
    "# df_all_india_2014 = df_edu_2014[df_edu_2014['States/UTs'] == 'Total (All India)']\n"
   ]
  },
  {
   "cell_type": "code",
   "execution_count": null,
   "metadata": {},
   "outputs": [],
   "source": [
    "# # Plot histogram for each cause\n",
    "# plt.figure(figsize=(20, 10))\n",
    "\n",
    "# # Extract the causes and total values\n",
    "# causes = df_all_india_2014['CrimeHead']\n",
    "# totals = df_all_india_2014['Total']\n",
    "\n",
    "# # Plot histogram\n",
    "# plt.bar(causes, totals, color='skyblue')\n",
    "# plt.xlabel('Cause of Suicide')\n",
    "# plt.ylabel('Total Number of Suicides')\n",
    "# plt.title('Total Suicides by Cause (All India, 2014)')\n",
    "# plt.xticks(rotation=90)  # Rotate x labels for better visibility\n",
    "# plt.tight_layout()  # Adjust layout to prevent cutoff\n",
    "\n",
    "# # Show the plot\n",
    "# plt.show()"
   ]
  }
 ],
 "metadata": {
  "kernelspec": {
   "display_name": "Python 3",
   "language": "python",
   "name": "python3"
  },
  "language_info": {
   "codemirror_mode": {
    "name": "ipython",
    "version": 3
   },
   "file_extension": ".py",
   "mimetype": "text/x-python",
   "name": "python",
   "nbconvert_exporter": "python",
   "pygments_lexer": "ipython3",
   "version": "3.12.3"
  }
 },
 "nbformat": 4,
 "nbformat_minor": 2
}
