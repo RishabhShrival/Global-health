{
 "cells": [
  {
   "cell_type": "code",
   "execution_count": 679,
   "metadata": {},
   "outputs": [],
   "source": [
    "import pandas as pd\n",
    "import matplotlib.pyplot as plt"
   ]
  },
  {
   "cell_type": "code",
   "execution_count": 680,
   "metadata": {},
   "outputs": [],
   "source": [
    "# Read the .dta file without converting categoricals\n",
    "df = pd.read_stata(\"UP_BH_Individual_UDAYA 2_Uploaded.dta\", convert_categoricals=False)"
   ]
  },
  {
   "cell_type": "code",
   "execution_count": 681,
   "metadata": {},
   "outputs": [],
   "source": [
    "# Function to find the correct age\n",
    "def find_age(row):\n",
    "    for i in range(1, 34):\n",
    "        h05_col = f'h05_{i}'\n",
    "        h04_col = f'h04_{i}'\n",
    "        if h05_col in row and row[h05_col] == row['gg101b']:\n",
    "            return row[h04_col]\n",
    "    return None\n",
    "\n",
    "# Apply the function to create the new 'age' column\n",
    "df['sex'] = df.apply(find_age, axis=1)"
   ]
  },
  {
   "cell_type": "markdown",
   "metadata": {},
   "source": [
    "\n",
    "\n",
    "This code will create a new column `age` based on the `h04_X` value where `h05_X` matches `gg101b`, and then drop the original `h04_X` and `h05_X` columns."
   ]
  },
  {
   "cell_type": "code",
   "execution_count": 682,
   "metadata": {},
   "outputs": [],
   "source": [
    "#our task is to predict suicide behaviour based on the attributes and labels\n",
    "attributes = [\n",
    "    # Household-related attributes\n",
    "    'h15m',  # Total number of male members in the household\n",
    "    'h15f',  # Total number of female members in the household\n",
    "    'h15t',  # Total number of members in the household\n",
    "    'h16',   # Whether a member of the household owns the house\n",
    "    'h18',   # Ownership of agricultural land\n",
    "    'h19u',  # Agricultural land unit\n",
    "    'h21',   # Number of rooms in the household\n",
    "    'hurban_rural',   # urban?\n",
    "    \n",
    "    # Demographic and background information\n",
    "    'sex',\n",
    "    'gg101b',  # Age in completed years\n",
    "    # 'h05_1',   # Age of the member\n",
    "    'h26',     # Religion\n",
    "    'h27',     # Caste\n",
    "    # 'h27o',    # Caste: specify\n",
    "    'gg103',   # Mother's highest level of schooling successfully completed\n",
    "    'h08_1',   # Highest level of schooling successfully completed year of education of father\n",
    "    \n",
    "    # Personal habits and substance use\n",
    "    'h35',   # Anyone in the family consumed tobacco products\n",
    "    'h36',   # Anyone in the family consumed alcohol\n",
    "    'h37',   # Anyone in the family consumed drugs\n",
    "    'gg1101', # Ever consumed tobacco products\n",
    "    'gg1102', # Consumed tobacco products in the last one month\n",
    "    'gg1103', # Ever had alcohol\n",
    "    'gg1104', # Taken alcoholic drinks in the last one month\n",
    "    'gg1105', # Ever used drugs\n",
    "    'gg1106', # Taken drugs in the last one month\n",
    "    \n",
    "    # Health and well-being\n",
    "    'gh1',    # Weight (in kgs)\n",
    "    'gh3',    # Height (in cms)\n",
    "    # 'gg627a', # Had trouble falling asleep, or sleeping too much in the last 2 weeks\n",
    "    # 'gg627b', # Been feeling tired or having little energy in the last 2 weeks\n",
    "    # 'gg627c', # Had poor appetite or overeating in the last 2 weeks\n",
    "    # 'gg627d', # Had trouble concentrating on things in the last 2 weeks\n",
    "    # 'gg627g', # Been feeling bad about yourself in the last 2 weeks\n",
    "    'gg612',  # Injured in a road accident in the last three months\n",
    "    'gg613',  # Injured under any other circumstances in the last three months\n",
    "    \n",
    "    # Education and school-related attributes\n",
    "    'gg106',  # Currently attending school\n",
    "\n",
    "        \n",
    "    # Social relationships and role models\n",
    "    'gg701',  # Number of friends respondent has *\n",
    "    'gg801',  # Ever had a boyfriend/girlfriend *\n",
    "    'gg802',  # Number of boyfriends/girlfriends respondent had *\n",
    "    'gg803',  # Ever hugged boyfriend(s)/girlfriend(s)\n",
    "    'gg804',  # Ever kissed boyfriend(s)/girlfriend(s) on the lips\n",
    "    'gg805',  # Ever had sexual intercourse with boyfriend(s)/girlfriend(s)\n",
    "    # 'gg209',  # Respondent seen any adult(s) as a role model\n",
    "    \n",
    "    # Employment and economic activities\n",
    "    'gg160',  # Currently seeking a job for pay\n",
    "    \n",
    "    # Violence and abuse\n",
    "    'gg179',  # Father ever beaten mother\n",
    "    'gg180',  # Father beaten mother in the last 12 months\n",
    "    'gg181',  # Respondent physically hurt by father and/or mother since age 10\n",
    "    'gg182',  # Forms of physical violence experienced by respondent\n",
    "    'gg183',  # Respondent physically hurt by father and/or mother in the last 12 months\n",
    "    \n",
    "    # Activities and behaviors\n",
    "    'gg708',  # Often played outdoor games or engaged in physical activities\n",
    "    'gg1213', # Ever accessed pornographic materials on the internet\n",
    "    'gg1107', # Involved in physical fights with someone in the last 12 months\n",
    "\n",
    "    \n",
    "    # Technology and device usage\n",
    "    'fng1207bh', # Last day, number of hours spent on mobile phone\n",
    "]\n"
   ]
  },
  {
   "cell_type": "code",
   "execution_count": 683,
   "metadata": {},
   "outputs": [],
   "source": [
    "label=['gg627i', #had thoughts that r would be better off dead in the last 2 weeks\n",
    " 'gg628', #ever seriously consider attempting suicide during the last one year\n",
    " 'gg629', #made a plan about how r would attempt suicide during the last one year\n",
    " 'gg630', #number of times r actually attempted suicide during the last one year\n",
    " 'fgg627i',\n",
    " 'fgg628',\n",
    " 'fgg629',\n",
    " 'fgg630',\n",
    " 'gg631a', #agitated, angry or sad, ever cut/beaten himself/herself during the last one year\n",
    " 'gg631b', #agitated, angry or sad, ever pulled own hair during the last one year\n",
    " 'gg631c' #aitated, angry or sad, ever banged/hit himself/herself during the last one year\n",
    "]"
   ]
  },
  {
   "cell_type": "code",
   "execution_count": 684,
   "metadata": {},
   "outputs": [],
   "source": [
    "#give marks on 1-10 scale for suicidal behaviour \n",
    "# weight_label={'gg627i':5,\n",
    "#  'gg628':7,\n",
    "#  'gg629':8,         \n",
    "#  'gg630':9,\n",
    "#  'gg631a':4,\n",
    "#  'gg631b':3,\n",
    "#  'gg631c':2}"
   ]
  },
  {
   "cell_type": "code",
   "execution_count": 685,
   "metadata": {},
   "outputs": [],
   "source": [
    "# consider df with only attributes and labels\n",
    "df = df[attributes + label]"
   ]
  },
  {
   "cell_type": "code",
   "execution_count": 686,
   "metadata": {},
   "outputs": [],
   "source": [
    "#'h18' 1 to True and other to False\n",
    "df['h18'] = df['h18'].apply(lambda x: True if x == 1 else False)\n",
    "df['hurban_rural'] = df['hurban_rural'].apply(lambda x: True if x == 2 else False)"
   ]
  },
  {
   "cell_type": "code",
   "execution_count": 687,
   "metadata": {},
   "outputs": [],
   "source": [
    "#convert area\n",
    "# Conversion factors\n",
    "conversion_factors = {\n",
    "    'Katha': 126.44,\n",
    "    'Bigha': 1337.8,\n",
    "    'Acre': 4046.86\n",
    "}\n",
    "\n",
    "# Function to convert units\n",
    "def convert_to_m2(value):\n",
    "    if pd.isna(value) or value in ['0', '']:\n",
    "        return 0  # Handle missing or zero values\n",
    "    try:\n",
    "        # Extract numeric and unit parts\n",
    "        parts = value.split()\n",
    "        num = float(parts[0])\n",
    "        unit = parts[1].lower()\n",
    "        \n",
    "        # Identify and convert based on the unit\n",
    "        if unit.startswith('k'):\n",
    "            return num * conversion_factors['Katha']\n",
    "        elif unit.startswith('b'):\n",
    "            return num * conversion_factors['Bigha']\n",
    "        elif unit.startswith('a') or unit.startswith('e'):\n",
    "            return num * conversion_factors['Acre']\n",
    "        else:\n",
    "            return 0  # Invalid unit\n",
    "    except:\n",
    "        return 0  # Handle any parsing errors"
   ]
  },
  {
   "cell_type": "code",
   "execution_count": 688,
   "metadata": {},
   "outputs": [],
   "source": [
    "df['h19u']=df['h19u'].apply(convert_to_m2)"
   ]
  },
  {
   "cell_type": "code",
   "execution_count": 689,
   "metadata": {},
   "outputs": [],
   "source": [
    "#mother education\n",
    "df['gg103']=df['gg103'].apply(lambda x: 0  if x<=5 else 1)"
   ]
  },
  {
   "cell_type": "code",
   "execution_count": 690,
   "metadata": {},
   "outputs": [],
   "source": [
    "#convert religious 'h26' 1 to 'H' , 2 to 'M', >2 to 'O'\n",
    "df['h26'] = df['h26'].apply(lambda x: 'H' if x == 1 else 'M' if x == 2 else 'O')\n",
    "df['h27']=df['h27'].apply(lambda x: 'SC' if x == 1 else 'ST' if x == 2 else 'GEN' if x ==4 else 'OBC')\n"
   ]
  },
  {
   "cell_type": "code",
   "execution_count": 691,
   "metadata": {},
   "outputs": [],
   "source": [
    "# tobaco alchohol to true false\n",
    "columns_to_transform = [\n",
    "    'h35', 'h36', 'h37', \n",
    "    'gg1101', 'gg1102', 'gg1103', \n",
    "    'gg1104', 'gg1105', 'gg1106'\n",
    "]\n",
    "\n",
    "# Convert 1 to True and everything else to False\n",
    "df[columns_to_transform] = df[columns_to_transform] == 1"
   ]
  },
  {
   "cell_type": "code",
   "execution_count": 692,
   "metadata": {},
   "outputs": [],
   "source": [
    "# Function to calculate BMI and classify\n",
    "def classify_bmi(row):\n",
    "    if pd.isna(row['gh1']) or pd.isna(row['gh3']):\n",
    "        return 'normal'\n",
    "    height_m = row['gh3'] / 100  # Convert height to meters\n",
    "    bmi = row['gh1'] / (height_m ** 2)\n",
    "    if bmi < 18.5:\n",
    "        return 'underweight'\n",
    "    elif 18.5 <= bmi < 24.9:\n",
    "        return 'normal'\n",
    "    else:\n",
    "        return 'overweight'\n",
    "\n",
    "# Apply the classification function\n",
    "df['BMI_Category'] = df.apply(classify_bmi, axis=1)\n",
    "\n",
    "# Drop the original columns\n",
    "df.drop(columns=['gh1', 'gh3'], inplace=True)"
   ]
  },
  {
   "cell_type": "code",
   "execution_count": 693,
   "metadata": {},
   "outputs": [],
   "source": [
    "df['gg612'] = df['gg612'].apply(lambda x: True if x == 2 else False)\n",
    "df['gg613'] = df['gg613'].apply(lambda x: True if x == 2 else False)"
   ]
  },
  {
   "cell_type": "code",
   "execution_count": 694,
   "metadata": {},
   "outputs": [],
   "source": [
    "df['gg801'] = df['gg801'].apply(lambda x: True if x == 1 else False if x == 2 else False)"
   ]
  },
  {
   "cell_type": "code",
   "execution_count": 695,
   "metadata": {},
   "outputs": [],
   "source": [
    "df['gg802'] = df['gg802'].fillna(0)"
   ]
  },
  {
   "cell_type": "code",
   "execution_count": 696,
   "metadata": {
    "vscode": {
     "languageId": "ruby"
    }
   },
   "outputs": [],
   "source": [
    "columns_to_convert = ['gg803', 'gg804', 'gg805']\n",
    "\n",
    "# Convert 1 to True, 2 to False, and missing values to False\n",
    "df[columns_to_convert] = df[columns_to_convert].map(lambda x: True if x == 1 else False )\n"
   ]
  },
  {
   "cell_type": "code",
   "execution_count": 697,
   "metadata": {},
   "outputs": [],
   "source": [
    "df['gg160'] = df['gg160'].apply(lambda x: True if x == 1 else False)"
   ]
  },
  {
   "cell_type": "code",
   "execution_count": 698,
   "metadata": {},
   "outputs": [],
   "source": [
    "columns_to_convert = ['gg179', 'gg180', 'gg181']\n",
    "\n",
    "# Convert 2 to False and everything else to True\n",
    "df[columns_to_convert] = df[columns_to_convert].map(lambda x: False if x == 2 else True)"
   ]
  },
  {
   "cell_type": "code",
   "execution_count": 699,
   "metadata": {},
   "outputs": [],
   "source": [
    "df['gg182'] = df['gg182'].apply(lambda x: 0 if x == '' else 1 if len(str(x)) == 1 else 2)"
   ]
  },
  {
   "cell_type": "code",
   "execution_count": 700,
   "metadata": {},
   "outputs": [],
   "source": [
    "df['gg183'] = df['gg183'].notna()"
   ]
  },
  {
   "cell_type": "code",
   "execution_count": 701,
   "metadata": {},
   "outputs": [],
   "source": [
    "df['gg708'] = df['gg708'].fillna(0)\n",
    "df['gg1213'] = df['gg1213'].fillna(0)\n",
    "df['fng1207bh']=df['fng1207bh'].fillna(0)"
   ]
  },
  {
   "cell_type": "code",
   "execution_count": 702,
   "metadata": {},
   "outputs": [],
   "source": [
    "df['gg1107'] = df['gg1107'].apply(lambda x: True if x == 1 else False)"
   ]
  },
  {
   "cell_type": "code",
   "execution_count": 703,
   "metadata": {},
   "outputs": [],
   "source": [
    "df['sex'] = df['sex'].apply(lambda x: 'male' if x == 2 else 'female')"
   ]
  },
  {
   "cell_type": "code",
   "execution_count": 704,
   "metadata": {},
   "outputs": [],
   "source": [
    "df['gg106'] = df['gg106'].apply(lambda x: True if x == 1 else False)"
   ]
  },
  {
   "cell_type": "code",
   "execution_count": 705,
   "metadata": {
    "vscode": {
     "languageId": "ruby"
    }
   },
   "outputs": [],
   "source": [
    "df[label] = df[label].fillna(0)"
   ]
  },
  {
   "cell_type": "code",
   "execution_count": 706,
   "metadata": {},
   "outputs": [],
   "source": [
    "columns_to_limit = ['gg628', 'gg629', 'gg630','fgg628', 'fgg629', 'fgg630']\n",
    "\n",
    "# Apply the transformation\n",
    "df[columns_to_limit] = df[columns_to_limit].map(lambda x: 3 if x > 3 else x)"
   ]
  },
  {
   "cell_type": "code",
   "execution_count": 707,
   "metadata": {
    "vscode": {
     "languageId": "ruby"
    }
   },
   "outputs": [],
   "source": [
    "df['gg631a'] = df['gg631a'] - 1\n",
    "df['gg631b'] = df['gg631b'] - 1\n",
    "df['gg631c'] = df['gg631c'] - 1\n",
    "df['gg627i'] = df['gg627i'] - 1\n"
   ]
  },
  {
   "cell_type": "code",
   "execution_count": null,
   "metadata": {},
   "outputs": [],
   "source": [
    "# df['suicide_thought1'] = df.apply(lambda row: max(row['gg627i']*3, row['gg628']*7, row['gg629']*8, row['gg630']*9), axis=1)"
   ]
  },
  {
   "cell_type": "code",
   "execution_count": null,
   "metadata": {},
   "outputs": [],
   "source": [
    "# df['suicide_thought2'] = df.apply(lambda row: max(row['fgg627i']*3, row['fgg628']*7 , row['fgg629']*8, row['fgg630']*9), axis=1)"
   ]
  },
  {
   "cell_type": "code",
   "execution_count": null,
   "metadata": {},
   "outputs": [],
   "source": [
    "# Apply the function to create the new 'suicide_behavior' column\n",
    "# df['suicide_behavior'] = (df['suicide_thought1']+df['suicide_thought2'])/54 * 100"
   ]
  },
  {
   "cell_type": "code",
   "execution_count": 711,
   "metadata": {},
   "outputs": [],
   "source": [
    "df.drop(columns=label, inplace=True)"
   ]
  },
  {
   "cell_type": "code",
   "execution_count": 712,
   "metadata": {},
   "outputs": [],
   "source": [
    "df.to_csv('processed_data.csv', index=False)"
   ]
  }
 ],
 "metadata": {
  "kernelspec": {
   "display_name": "Python 3",
   "language": "python",
   "name": "python3"
  },
  "language_info": {
   "codemirror_mode": {
    "name": "ipython",
    "version": 3
   },
   "file_extension": ".py",
   "mimetype": "text/x-python",
   "name": "python",
   "nbconvert_exporter": "python",
   "pygments_lexer": "ipython3",
   "version": "3.12.3"
  }
 },
 "nbformat": 4,
 "nbformat_minor": 2
}
